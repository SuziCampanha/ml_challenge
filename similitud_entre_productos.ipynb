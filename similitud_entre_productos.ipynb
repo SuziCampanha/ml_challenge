{
 "cells": [
  {
   "cell_type": "markdown",
   "id": "3f1eb873-85ba-444e-98f7-1c713077f9ea",
   "metadata": {},
   "source": [
    "# Similitud entre productos\n",
    "\n",
    "## Descripción\n",
    "\r",
    "Un desafío constante en MELI es el de poder agrupar productos similares utilizando algunos atributos de estos como pueden ser el título, la descripción o su imagen.\n",
    "Para este desafío tenemos un dataset “items_titles.csv” que tiene títulos de 30 mil productos de 3 categorías diferentes de Mercado Libre Brasil."
   ]
  },
  {
   "cell_type": "markdown",
   "id": "6a3735b5-7023-49ae-8aaa-a7f407e66a2e",
   "metadata": {},
   "source": [
    "## Entregable\n",
    "\r",
    "El objetivo del desafío es poder generar una Jupyter notebook que determine cuán similares son dos títulos del dataset “item_titles_test.csv” generando como output un listado de la\n",
    "forma donde ordenando por score de similitud podamos encontrar los pares de productos más similares en nuestro dataset de test.\n",
    "    \n",
    "Considere el tiempo de ejecución y analice si la solución es escalable, mostrando el tiempo de ejecución en función del tamaño de la lista a procesar.\n",
    "obs: Para este ejercicio, no utilice modelos previamente entrenados.nados.\r"
   ]
  },
  {
   "cell_type": "markdown",
   "id": "7a6fecbb-2692-4e8c-95cd-b87f4ff27ded",
   "metadata": {},
   "source": [
    "## Importando las bibliotecas"
   ]
  },
  {
   "cell_type": "code",
   "execution_count": null,
   "id": "9abffc68-5013-4e31-ab9d-93e67883c2b7",
   "metadata": {},
   "outputs": [],
   "source": [
    "pip install faiss-cpu"
   ]
  },
  {
   "cell_type": "code",
   "execution_count": 22,
   "id": "0a4e6848-c7f7-4829-bdc2-caca6a72b918",
   "metadata": {},
   "outputs": [],
   "source": [
    "import pandas as pd\n",
    "from sklearn.feature_extraction.text import TfidfVectorizer\n",
    "from sklearn.metrics.pairwise import cosine_similarity\n",
    "import itertools\n",
    "import faiss\n",
    "import numpy as np\n",
    "import time"
   ]
  },
  {
   "cell_type": "markdown",
   "id": "ff2449e6-9f45-4380-b832-500e3f04082f",
   "metadata": {},
   "source": [
    "## Importando los datos"
   ]
  },
  {
   "cell_type": "code",
   "execution_count": 25,
   "id": "13776602-b32c-4f38-b016-48650a1e2105",
   "metadata": {},
   "outputs": [],
   "source": [
    "df_itens = pd.read_csv(\"items_titles.csv\")"
   ]
  },
  {
   "cell_type": "code",
   "execution_count": 29,
   "id": "73ead9d5-56bb-4371-9a57-494679e73729",
   "metadata": {},
   "outputs": [
    {
     "data": {
      "text/plain": [
       "(30000, 1)"
      ]
     },
     "execution_count": 29,
     "metadata": {},
     "output_type": "execute_result"
    }
   ],
   "source": [
    "df_itens.shape"
   ]
  },
  {
   "cell_type": "code",
   "execution_count": 27,
   "id": "0f8444b8-4053-4952-899e-9eee2c53bb4f",
   "metadata": {},
   "outputs": [
    {
     "data": {
      "text/html": [
       "<div>\n",
       "<style scoped>\n",
       "    .dataframe tbody tr th:only-of-type {\n",
       "        vertical-align: middle;\n",
       "    }\n",
       "\n",
       "    .dataframe tbody tr th {\n",
       "        vertical-align: top;\n",
       "    }\n",
       "\n",
       "    .dataframe thead th {\n",
       "        text-align: right;\n",
       "    }\n",
       "</style>\n",
       "<table border=\"1\" class=\"dataframe\">\n",
       "  <thead>\n",
       "    <tr style=\"text-align: right;\">\n",
       "      <th></th>\n",
       "      <th>ITE_ITEM_TITLE</th>\n",
       "    </tr>\n",
       "  </thead>\n",
       "  <tbody>\n",
       "    <tr>\n",
       "      <th>0</th>\n",
       "      <td>Tênis Ascension Posh Masculino - Preto E Verme...</td>\n",
       "    </tr>\n",
       "    <tr>\n",
       "      <th>1</th>\n",
       "      <td>Tenis Para Caminhada Super Levinho Spider Corr...</td>\n",
       "    </tr>\n",
       "    <tr>\n",
       "      <th>2</th>\n",
       "      <td>Tênis Feminino Le Parc Hocks Black/ice Origina...</td>\n",
       "    </tr>\n",
       "    <tr>\n",
       "      <th>3</th>\n",
       "      <td>Tênis Olympikus Esportivo Academia Nova Tendên...</td>\n",
       "    </tr>\n",
       "    <tr>\n",
       "      <th>4</th>\n",
       "      <td>Inteligente Led Bicicleta Tauda Luz Usb Bicicl...</td>\n",
       "    </tr>\n",
       "    <tr>\n",
       "      <th>...</th>\n",
       "      <td>...</td>\n",
       "    </tr>\n",
       "    <tr>\n",
       "      <th>29995</th>\n",
       "      <td>Tênis Vans Old Skool I Love My Vans - Usado - ...</td>\n",
       "    </tr>\n",
       "    <tr>\n",
       "      <th>29996</th>\n",
       "      <td>Tênis Feminino Preto Moleca 5296155</td>\n",
       "    </tr>\n",
       "    <tr>\n",
       "      <th>29997</th>\n",
       "      <td>Tenis Botinha Com Pelo Via Marte Original Lanç...</td>\n",
       "    </tr>\n",
       "    <tr>\n",
       "      <th>29998</th>\n",
       "      <td>Tênis Slip On Feminino Masculino Original Sapa...</td>\n",
       "    </tr>\n",
       "    <tr>\n",
       "      <th>29999</th>\n",
       "      <td>Bicicleta Nathor Rosa Infantil Sem Pedal Balan...</td>\n",
       "    </tr>\n",
       "  </tbody>\n",
       "</table>\n",
       "<p>30000 rows × 1 columns</p>\n",
       "</div>"
      ],
      "text/plain": [
       "                                          ITE_ITEM_TITLE\n",
       "0      Tênis Ascension Posh Masculino - Preto E Verme...\n",
       "1      Tenis Para Caminhada Super Levinho Spider Corr...\n",
       "2      Tênis Feminino Le Parc Hocks Black/ice Origina...\n",
       "3      Tênis Olympikus Esportivo Academia Nova Tendên...\n",
       "4      Inteligente Led Bicicleta Tauda Luz Usb Bicicl...\n",
       "...                                                  ...\n",
       "29995  Tênis Vans Old Skool I Love My Vans - Usado - ...\n",
       "29996                Tênis Feminino Preto Moleca 5296155\n",
       "29997  Tenis Botinha Com Pelo Via Marte Original Lanç...\n",
       "29998  Tênis Slip On Feminino Masculino Original Sapa...\n",
       "29999  Bicicleta Nathor Rosa Infantil Sem Pedal Balan...\n",
       "\n",
       "[30000 rows x 1 columns]"
      ]
     },
     "execution_count": 27,
     "metadata": {},
     "output_type": "execute_result"
    }
   ],
   "source": [
    "df_itens"
   ]
  },
  {
   "cell_type": "markdown",
   "id": "391787ff-5da6-408d-921d-24b435868f49",
   "metadata": {},
   "source": [
    "Para determinar la similitud entre los títulos de productos de un conjunto de datos como item_titles_test.csv y generar las parejas más similares basadas en una puntuación de similitud, sin utilizar modelos preentrenados, podemos emplear varios enfoques de similitud de texto. A continuación, te explico cómo abordar el problema paso a paso:\n",
    "\n",
    "Enfoque clave\n",
    "Preprocesamiento de texto: Limpiar y preprocesar los títulos de los productos.\n",
    "Cálculo de similitud: Utilizar medidas de similitud de texto, tales como:\n",
    "Similitud de Jaccard (basada en la intersección de conjuntos).\n",
    "Similitud del coseno (basada en vectores de frecuencia de términos).\n",
    "\n",
    "Preprocesamiento:\n",
    "La función preprocess_text() convierte los títulos a minúsculas, lo que puede ampliarse para incluir la eliminación de signos de puntuación, eliminación de palabras vacías (stopwords), y técnicas más avanzadas.\n",
    "\n",
    "Vectorización TF-IDF:\n",
    "El vectorizador TF-IDF (Frecuencia de Término - Frecuencia Inversa de Documento) transforma los datos de texto en vectores numéricos basados en la frecuencia de las palabras, ajustado por lo común que es una palabra en todos los títulos.\n",
    "\n",
    "Similitud del coseno:\n",
    "La función cosine_similarity calcula la similitud por pares entre los vectores de los títulos de los productos. Esta similitud varía entre 0 (sin similitud) y 1 (similitud perfecta).\n",
    "\n",
    "Extracción de pares:\n",
    "Dado que la similitud del coseno produce una matriz de similitud de tamaño n x n (donde n es el número de títulos), solo extraemos la parte superior de la matriz (usando itertools.combinations) para evitar comparaciones redundantes (es decir, comparar el título A con el título B y luego el título B con el título A).\n",
    "\n",
    "Ordenación:\n",
    "Las puntuaciones de similitud se ordenan en orden descendente, lo que nos permite identificar las parejas más similares.\n",
    "\n",
    "Escalabilidad y tiempo de ejecución:\n",
    "\n",
    "La complejidad temporal de este enfoque depende del tamaño del conjunto de datos:\n",
    "\n",
    "El paso de vectorización (TF-IDF) escala linealmente con el número de títulos de productos.\n",
    "El cálculo de similitud (Similitud del Coseno) es O(n²), donde n es el número de títulos, debido a la necesidad de comparaciones por pares.\n",
    "Esto hace que la solución sea adecuada para conjuntos de datos pequeños a medianos. Para conjuntos de datos muy grandes, podrían necesitarse optimizaciones como los métodos de Aproximación de Vecinos Más Cercanos (ANN) para reducir el número de comparaciones.\n",
    "\n",
    "Tiempo de ejecución:\n",
    "El tiempo que toma este enfoque dependerá del número de títulos en el conjunto de datos. Para obtener el tiempo de ejecución como función del tamaño del conjunto de datos, se puede ejecutar el código con diferentes tamaños del conjunto de datos (por ejemplo, 100, 1,000, 10,000 títulos) y observar la diferencia de tiempo."
   ]
  },
  {
   "cell_type": "code",
   "execution_count": null,
   "id": "9f4bf0c4-7bfd-40b7-8828-3921d68ce561",
   "metadata": {},
   "outputs": [],
   "source": [
    "# Preprocess the data\n",
    "def preprocess_text(text):\n",
    "    return text.lower()\n",
    "\n",
    "df_itens['cleaned_title'] = df_itens['title'].fillna('').apply(preprocess_text)\n",
    "\n",
    "# Vectorize the titles using TF-IDF\n",
    "tfidf_vectorizer = TfidfVectorizer()\n",
    "tfidf_matrix = tfidf_vectorizer.fit_transform(df['cleaned_title'])\n",
    "\n",
    "# Define a function to calculate similarity in batches\n",
    "def batch_cosine_similarity(tfidf_matrix, batch_size=1000):\n",
    "    n = tfidf_matrix.shape[0]\n",
    "    pairs = []\n",
    "    similarity_scores = []\n",
    "\n",
    "    for i in range(0, n, batch_size):\n",
    "        end = min(i + batch_size, n)\n",
    "        batch_matrix = tfidf_matrix[i:end]\n",
    "        batch_similarity = cosine_similarity(batch_matrix, tfidf_matrix)  # Similarity of each batch with the entire set\n",
    "\n",
    "        for row_idx, row in enumerate(batch_similarity):\n",
    "            for col_idx, score in enumerate(row):\n",
    "                if i + row_idx < col_idx:  # Avoid duplicate pairs\n",
    "                    pairs.append((i + row_idx, col_idx, score))\n",
    "\n",
    "    return pairs\n",
    "\n",
    "# Step 3: Calculate similarity in batches\n",
    "start_time = time.time()\n",
    "similarity_scores = batch_cosine_similarity(tfidf_matrix, batch_size=1000)\n",
    "end_time = time.time()\n",
    "\n",
    "# Step 4: Sort the results by similarity score\n",
    "similarity_scores = sorted(similarity_scores, key=lambda x: x[2], reverse=True)\n",
    "\n",
    "# Step 5: Output the top 10 most similar product pairs\n",
    "top_n = 10\n",
    "for i, j, score in similarity_scores[:top_n]:\n",
    "    print(f\"Product 1: {df['title'][i]} \\nProduct 2: {df['title'][j]} \\nSimilarity Score: {score}\\n\")\n",
    "\n",
    "# Measure execution time\n",
    "execution_time = end_time - start_time\n",
    "print(f\"Execution Time: {execution_time} seconds\")"
   ]
  },
  {
   "cell_type": "markdown",
   "id": "1fe43e6e-74e7-4f97-a946-33c4338a464a",
   "metadata": {},
   "source": [
    "Conclusión\n",
    "Este enfoque utiliza la vectorización TF-IDF y la similitud del coseno para calcular la similitud entre títulos de productos, lo cual es interpretable y escalable para conjuntos de datos pequeños a medianos. Para conjuntos de datos de gran tamaño, técnicas más avanzadas como el Locality-Sensitive Hashing (LSH) u otros métodos de vecinos más cercanos aproximados pueden optimizar aún más el proceso. También se puede considerar el uso de la distancia de Levenshtein (distancia de edición entre dos cadenas) como otra métrica de similitud eficiente."
   ]
  },
  {
   "cell_type": "code",
   "execution_count": null,
   "id": "4de79a07-4b44-4aee-b084-0ff7b2810150",
   "metadata": {},
   "outputs": [],
   "source": []
  }
 ],
 "metadata": {
  "kernelspec": {
   "display_name": "Python 3 (ipykernel)",
   "language": "python",
   "name": "python3"
  },
  "language_info": {
   "codemirror_mode": {
    "name": "ipython",
    "version": 3
   },
   "file_extension": ".py",
   "mimetype": "text/x-python",
   "name": "python",
   "nbconvert_exporter": "python",
   "pygments_lexer": "ipython3",
   "version": "3.12.4"
  }
 },
 "nbformat": 4,
 "nbformat_minor": 5
}
